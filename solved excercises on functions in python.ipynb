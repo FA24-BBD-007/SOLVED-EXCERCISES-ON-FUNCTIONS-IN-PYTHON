{
 "cells": [
  {
   "cell_type": "code",
   "execution_count": 1,
   "id": "2ff27e90-4e66-413a-99a6-4f955a65a82f",
   "metadata": {},
   "outputs": [],
   "source": [
    "#FA23-BBD-007\n",
    "#ADEENA BINT SALEEM\n",
    "\n",
    "#QUESTION NO .1\n",
    "#Simple Function\n",
    "def greet_with_time(name):\n",
    "    current_time = datetime.now()\n",
    "    print(f\"Hello, {name}! The current time is {current_time.hour}:{current_time.minute}:{current_time.second}.\")"
   ]
  },
  {
   "cell_type": "code",
   "execution_count": 3,
   "id": "acac9306-a49c-4999-95dc-f35d60125950",
   "metadata": {},
   "outputs": [],
   "source": [
    "#QUESTION NO .2 \n",
    "#Function with Multiple Parameters\n",
    "def calculate_average(a, b, c):\n",
    "    return (a + b + c) / 3"
   ]
  },
  {
   "cell_type": "code",
   "execution_count": 5,
   "id": "9ec1fab8-5d30-4cb9-97f6-eaa9376e2b4e",
   "metadata": {},
   "outputs": [],
   "source": [
    "#QUESTION NO .3\n",
    "#Default Argument\n",
    "def calculate_discount(price, discount_percentage=10):\n",
    "    discounted_price = price - (price * discount_percentage / 100)\n",
    "    return discounted_price"
   ]
  },
  {
   "cell_type": "code",
   "execution_count": null,
   "id": "0dce3633-9011-477f-a563-36bd7ce0be3c",
   "metadata": {},
   "outputs": [],
   "source": [
    "#QUESTION NO .4\n",
    "#Keyword Arguments\n",
    "def print_info(*, name, age, city):\n",
    "    print(f\"Name: {name}\")\n",
    "    print(f\"Age: {age}\")\n",
    "    print(f\"City: {city}\")"
   ]
  },
  {
   "cell_type": "code",
   "execution_count": null,
   "id": "0786a27c-abfb-40c8-bc0d-ec516180b1c8",
   "metadata": {},
   "outputs": [],
   "source": [
    "#QUESTION NO .5\n",
    "#Variable-Length Arguments\n",
    "def find_max(*args):\n",
    "    if args:\n",
    "        return max(args)\n",
    "    return None "
   ]
  },
  {
   "cell_type": "code",
   "execution_count": null,
   "id": "d7d98fc0-87e5-4e49-81f7-4e33d4ac6bfd",
   "metadata": {},
   "outputs": [],
   "source": [
    "#QUESTION NO .6\n",
    "#Recursive Function\n",
    "def factorial(n):\n",
    "    if n == 0 or n == 1:\n",
    "        return 1  \n",
    "    else:\n",
    "        return n * factorial(n - 1)  "
   ]
  },
  {
   "cell_type": "code",
   "execution_count": null,
   "id": "4187fd63-261c-42f2-a5fb-fe56a016cf0a",
   "metadata": {},
   "outputs": [],
   "source": [
    "#QUESTION NO .7\n",
    "#Function as an Argument\n",
    "def apply_function(func, num_list):\n",
    "    return [func(x) for x in num_list]"
   ]
  },
  {
   "cell_type": "code",
   "execution_count": null,
   "id": "e2483f25-c2d6-4b58-a0b9-a0f42df4d114",
   "metadata": {},
   "outputs": [],
   "source": [
    "#QUESTION NO .8\n",
    "#Lambda Functions\n",
    "square = lambda x: x * x"
   ]
  },
  {
   "cell_type": "code",
   "execution_count": null,
   "id": "0ad3ab52-d20c-4213-b38c-eea5760aa0bc",
   "metadata": {},
   "outputs": [],
   "source": [
    "#QUESTION NO .9\n",
    "#Higher-Order Functions\n",
    "def apply_operation(func, numbers):\n",
    "    return [func(num) for num in numbers]"
   ]
  },
  {
   "cell_type": "code",
   "execution_count": null,
   "id": "2e17e3bd-97ae-43df-87e8-b134ef35b1bf",
   "metadata": {},
   "outputs": [],
   "source": [
    "#QUESTION NO .10\n",
    "#Function Decorators\n",
    "def measure_execution_time(func):\n",
    "    def wrapper(arg):\n",
    "        start_time = time.time()  \n",
    "        result = func(arg)  \n",
    "        end_time = time.time()  \n",
    "        execution_time = end_time - start_time  \n",
    "        print(f\"Execution time of {func.__name__}: {execution_time:.6f} seconds\")\n",
    "        return result  \n",
    "    return wrapper\n"
   ]
  }
 ],
 "metadata": {
  "kernelspec": {
   "display_name": "Python 3 (ipykernel)",
   "language": "python",
   "name": "python3"
  },
  "language_info": {
   "codemirror_mode": {
    "name": "ipython",
    "version": 3
   },
   "file_extension": ".py",
   "mimetype": "text/x-python",
   "name": "python",
   "nbconvert_exporter": "python",
   "pygments_lexer": "ipython3",
   "version": "3.12.4"
  }
 },
 "nbformat": 4,
 "nbformat_minor": 5
}
